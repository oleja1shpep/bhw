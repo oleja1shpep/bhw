{
 "cells": [
  {
   "cell_type": "code",
   "execution_count": 1,
   "metadata": {},
   "outputs": [],
   "source": [
    "import torch\n",
    "import torch.nn as nn\n",
    "import torch.nn.functional as F\n",
    "import torch.optim as optim\n",
    "import os\n",
    "import numpy as np\n",
    "import tqdm\n",
    "\n",
    "from torch.utils.data import Dataset, DataLoader\n",
    "\n",
    "import torchvision\n",
    "import torchvision.transforms as transforms\n",
    "from torchvision.transforms import v2\n",
    "from torchvision.models import *\n",
    "\n",
    "import pandas as pd\n",
    "import matplotlib.pyplot as plt\n",
    "\n",
    "from sklearn.model_selection import train_test_split\n",
    "\n",
    "assert True == torch.cuda.is_available()"
   ]
  },
  {
   "cell_type": "code",
   "execution_count": 2,
   "metadata": {},
   "outputs": [
    {
     "name": "stdout",
     "output_type": "stream",
     "text": [
      "cuda:0\n"
     ]
    }
   ],
   "source": [
    "device = torch.device('cuda:0' if torch.cuda.is_available() else 'cpu')\n",
    "\n",
    "print(device)"
   ]
  },
  {
   "cell_type": "code",
   "execution_count": 3,
   "metadata": {},
   "outputs": [],
   "source": [
    "class ImageDataset(Dataset):\n",
    "    def __init__(self, X, Y, train = True):\n",
    "        self.X = X\n",
    "        self.Y = Y\n",
    "        self.train = train\n",
    "\n",
    "    def __len__(self):\n",
    "        return len(self.Y)\n",
    "\n",
    "    def __getitem__(self, item):\n",
    "        normalize = v2.Normalize((128, 128, 128), (128, 128, 128))\n",
    "        augmentations = transforms.Compose([\n",
    "            v2.RandomHorizontalFlip(),\n",
    "            # v2.RandomAutocontrast(),\n",
    "            v2.RandomSolarize(0.4),\n",
    "            # v2.RandomEqualize(0.5),\n",
    "            # v2.RandomPosterize(16),\n",
    "            # v2.RandomGrayscale(0.3),\n",
    "            # v2.RandomPhotometricDistort(saturation=[1, 1.5], hue = [0,0], brightness=[0.875, 1.125], contrast=[0.9,1.1], p = 0.3),\n",
    "            # v2.ColorJitter(saturation=[1, 1], hue = 0, brightness=[1, 1], contrast=[0.9,1.1])\n",
    "        ])\n",
    "        img = torchvision.io.read_image(f\"trainval/{self.X[item]}\").to(torch.float).to(device)\n",
    "        img = normalize(img)\n",
    "        if self.train:\n",
    "            img = augmentations(img)\n",
    "        return img, self.Y[item]\n",
    "\n",
    "data = pd.read_csv(\"labels.csv\")\n",
    "X_train, X_val, y_train, y_val = train_test_split(data[\"Id\"], data[\"Category\"], test_size=0.2, random_state=42, shuffle=True)\n",
    "\n",
    "# X_train = X_train.reset_index()[\"Id\"]\n",
    "# y_train = y_train.reset_index()[\"Category\"]\n",
    "# X_val = X_val.reset_index()[\"Id\"]\n",
    "# y_val = y_val.reset_index()[\"Category\"]\n",
    "\n",
    "train_dataset = ImageDataset(X_train.to_list(), y_train.to_list())\n",
    "val_dataset = ImageDataset(X_val.to_list(), y_val.to_list(), False)"
   ]
  },
  {
   "cell_type": "code",
   "execution_count": 4,
   "metadata": {},
   "outputs": [],
   "source": [
    "train_loader = DataLoader(train_dataset, 32, True)\n",
    "val_loader = DataLoader(val_dataset, 32, True)"
   ]
  },
  {
   "cell_type": "code",
   "execution_count": 5,
   "metadata": {},
   "outputs": [
    {
     "data": {
      "image/png": "[encoded data removed]",
      "text/plain": [
       "<Figure size 640x480 with 1 Axes>"
      ]
     },
     "metadata": {},
     "output_type": "display_data"
    },
    {
     "name": "stdout",
     "output_type": "stream",
     "text": [
      "torch.Size([3, 40, 40])\n"
     ]
    }
   ],
   "source": [
    "def imshow(img):\n",
    "    img = img / 2 + 0.5    \n",
    "    npimg = img.to(\"cpu\").numpy()\n",
    "    plt.imshow(np.transpose(npimg, (1, 2, 0)))\n",
    "    plt.show()\n",
    "    print(img.shape)\n",
    "\n",
    "imshow(train_dataset[2][0])\n"
   ]
  },
  {
   "cell_type": "code",
   "execution_count": 6,
   "metadata": {},
   "outputs": [],
   "source": [
    "# for data, target in train_loader:\n",
    "#     print(data)\n",
    "#     print(target)\n",
    "#     break"
   ]
  },
  {
   "cell_type": "code",
   "execution_count": 7,
   "metadata": {},
   "outputs": [],
   "source": [
    "@torch.no_grad()\n",
    "def test(model, loader):\n",
    "    loss_log = []\n",
    "    acc_log = []\n",
    "    model.eval()\n",
    "    criterion = F.cross_entropy\n",
    "    \n",
    "    for data, target in loader:\n",
    "\n",
    "        data = data.to(device)  # images: batch_size x num_channels x height x width\n",
    "        target = target.to(device)  # labels: batch_size\n",
    "\n",
    "        logits = model(data)  # logits: batch_size x num_classes\n",
    "        loss = criterion(logits, target)\n",
    "    \n",
    "        loss_log.append(loss.item())\n",
    "        \n",
    "        acc = (logits.argmax(dim=1) == target).sum() / len(target)\n",
    "\n",
    "        acc_log.append(acc.item()) \n",
    "        \n",
    "    return torch.tensor(loss_log).mean(), torch.tensor(acc_log).mean()\n",
    "\n",
    "def train_epoch(model, optimizer, train_loader):\n",
    "    loss_log = []\n",
    "    acc_log = []\n",
    "    model.train()\n",
    "    criterion = F.cross_entropy\n",
    "    \n",
    "    for data, target in tqdm.tqdm(train_loader):\n",
    "        \n",
    "        data = data.to(device)\n",
    "        target = target.to(device)\n",
    "\n",
    "        optimizer.zero_grad()\n",
    "        logits = model(data)\n",
    "        loss = criterion(logits, target)  # use this loss for any training statistics\n",
    "        loss.backward()\n",
    "        optimizer.step()\n",
    "        \n",
    "        loss_log.append(loss.item())\n",
    "        \n",
    "        acc = (logits.argmax(dim=1) == target).sum() / len(target)\n",
    "        \n",
    "        acc_log.append(acc.item()) \n",
    "\n",
    "    return loss_log, acc_log\n",
    "\n",
    "def train(model, optimizer, n_epochs, train_loader, val_loader, scheduler=None):\n",
    "    train_loss_log, train_acc_log, val_loss_log, val_acc_log = [], [], [], []\n",
    "\n",
    "    for epoch in range(n_epochs):\n",
    "        train_loss, train_acc = train_epoch(model, optimizer, train_loader)\n",
    "        val_loss, val_acc = test(model, val_loader)\n",
    "        \n",
    "        train_loss_log.extend(train_loss)\n",
    "        train_acc_log.extend(train_acc)\n",
    "        \n",
    "        val_loss_log.append(val_loss)\n",
    "        val_acc_log.append(val_acc)\n",
    "\n",
    "        print(f\"Epoch {epoch + 1} | lr={scheduler.get_last_lr()[0]}\")\n",
    "        print(f\" train loss: {torch.tensor(train_loss).mean()}, train acc: {torch.tensor(train_acc).mean()}\")\n",
    "        print(f\" val loss: {val_loss}, val acc: {val_acc}\\n\")\n",
    "\n",
    "        torch.save(model, \"model.pth\")\n",
    "        \n",
    "        \n",
    "        if scheduler is not None:\n",
    "            scheduler.step()\n",
    "\n",
    "    return train_loss_log, train_acc_log, val_loss_log, val_acc_log"
   ]
  },
  {
   "cell_type": "code",
   "execution_count": 8,
   "metadata": {},
   "outputs": [],
   "source": [
    "# net = resnet18(num_classes=200)\n",
    "\n",
    "# net.maxpool = nn.ReLU()\n",
    "# net.conv1.stride = (1, 1)\n",
    "# net.layer2[0].conv1.stride = (1, 1)\n",
    "# net.layer2[0].downsample[0].stride = (1, 1)\n",
    "\n",
    "# net.layer3[0].conv2.stride = (1, 1)\n",
    "# net.layer3[0].downsample[0].stride = (1, 1)\n",
    "\n",
    "# net.layer4[0].conv2.stride = (1, 1)\n",
    "# net.layer4[0].downsample[0].stride = (1, 1)\n",
    "\n",
    "# print(net)"
   ]
  },
  {
   "cell_type": "code",
   "execution_count": 9,
   "metadata": {},
   "outputs": [],
   "source": [
    "net = efficientnet_v2_s(num_classes=200)\n",
    "\n",
    "net.features[0][0].stride = (1, 1)\n",
    "net.features[2][0].block[0][0].stride = (1, 1)\n",
    "# net.features[3][0].block[0][0].stride = (1, 1)\n",
    "\n",
    "net.classifier[0].p = 0.4\n",
    "\n",
    "# print(net)"
   ]
  },
  {
   "cell_type": "code",
   "execution_count": 10,
   "metadata": {},
   "outputs": [],
   "source": [
    "# net = efficientnet_v2_s(num_classes=200)\n",
    "\n",
    "# net(torch.zeros((64, 3, 40, 40), dtype=torch.float).to(device)).shape"
   ]
  },
  {
   "cell_type": "code",
   "execution_count": 11,
   "metadata": {},
   "outputs": [],
   "source": [
    "net = net.to(device)"
   ]
  },
  {
   "cell_type": "code",
   "execution_count": 12,
   "metadata": {},
   "outputs": [
    {
     "name": "stderr",
     "output_type": "stream",
     "text": [
      "100%|██████████| 2500/2500 [05:00<00:00,  8.32it/s]\n"
     ]
    },
    {
     "name": "stdout",
     "output_type": "stream",
     "text": [
      "Epoch 1 | lr=0.01\n",
      " train loss: 5.07138204574585, train acc: 0.023087499663233757\n",
      " val loss: 4.698486328125, val acc: 0.04735000059008598\n",
      "\n"
     ]
    },
    {
     "name": "stderr",
     "output_type": "stream",
     "text": [
      "100%|██████████| 2500/2500 [05:00<00:00,  8.33it/s]\n"
     ]
    },
    {
     "name": "stdout",
     "output_type": "stream",
     "text": [
      "Epoch 2 | lr=0.009938441702975689\n",
      " train loss: 4.595623016357422, train acc: 0.06023750081658363\n",
      " val loss: 4.253929138183594, val acc: 0.097850002348423\n",
      "\n"
     ]
    },
    {
     "name": "stderr",
     "output_type": "stream",
     "text": [
      "100%|██████████| 2500/2500 [05:00<00:00,  8.33it/s]\n"
     ]
    },
    {
     "name": "stdout",
     "output_type": "stream",
     "text": [
      "Epoch 3 | lr=0.009755282581475769\n",
      " train loss: 4.189517021179199, train acc: 0.10743749886751175\n",
      " val loss: 3.8276820182800293, val acc: 0.15444999933242798\n",
      "\n"
     ]
    },
    {
     "name": "stderr",
     "output_type": "stream",
     "text": [
      "100%|██████████| 2500/2500 [04:59<00:00,  8.34it/s]\n"
     ]
    },
    {
     "name": "stdout",
     "output_type": "stream",
     "text": [
      "Epoch 4 | lr=0.00945503262094184\n",
      " train loss: 3.843214750289917, train acc: 0.15372499823570251\n",
      " val loss: 3.559255361557007, val acc: 0.2003999948501587\n",
      "\n"
     ]
    },
    {
     "name": "stderr",
     "output_type": "stream",
     "text": [
      "100%|██████████| 2500/2500 [04:53<00:00,  8.52it/s]\n"
     ]
    },
    {
     "name": "stdout",
     "output_type": "stream",
     "text": [
      "Epoch 5 | lr=0.009045084971874739\n",
      " train loss: 3.5803706645965576, train acc: 0.1965624988079071\n",
      " val loss: 3.34256911277771, val acc: 0.23315000534057617\n",
      "\n"
     ]
    },
    {
     "name": "stderr",
     "output_type": "stream",
     "text": [
      "100%|██████████| 2500/2500 [04:48<00:00,  8.66it/s]\n"
     ]
    },
    {
     "name": "stdout",
     "output_type": "stream",
     "text": [
      "Epoch 6 | lr=0.008535533905932738\n",
      " train loss: 3.3642032146453857, train acc: 0.23412500321865082\n",
      " val loss: 3.159925937652588, val acc: 0.27059999108314514\n",
      "\n"
     ]
    },
    {
     "name": "stderr",
     "output_type": "stream",
     "text": [
      "100%|██████████| 2500/2500 [04:47<00:00,  8.69it/s]\n"
     ]
    },
    {
     "name": "stdout",
     "output_type": "stream",
     "text": [
      "Epoch 7 | lr=0.007938926261462366\n",
      " train loss: 3.179798126220703, train acc: 0.2653999924659729\n",
      " val loss: 3.0359513759613037, val acc: 0.2964499890804291\n",
      "\n"
     ]
    },
    {
     "name": "stderr",
     "output_type": "stream",
     "text": [
      "100%|██████████| 2500/2500 [04:50<00:00,  8.62it/s]\n"
     ]
    },
    {
     "name": "stdout",
     "output_type": "stream",
     "text": [
      "Epoch 8 | lr=0.007269952498697735\n",
      " train loss: 3.0171406269073486, train acc: 0.2944999933242798\n",
      " val loss: 2.9506711959838867, val acc: 0.3143500089645386\n",
      "\n"
     ]
    },
    {
     "name": "stderr",
     "output_type": "stream",
     "text": [
      "100%|██████████| 2500/2500 [05:04<00:00,  8.20it/s]\n"
     ]
    },
    {
     "name": "stdout",
     "output_type": "stream",
     "text": [
      "Epoch 9 | lr=0.006545084971874738\n",
      " train loss: 2.8691422939300537, train acc: 0.32202500104904175\n",
      " val loss: 2.839942216873169, val acc: 0.3352000117301941\n",
      "\n"
     ]
    },
    {
     "name": "stderr",
     "output_type": "stream",
     "text": [
      "100%|██████████| 2500/2500 [04:48<00:00,  8.66it/s]\n"
     ]
    },
    {
     "name": "stdout",
     "output_type": "stream",
     "text": [
      "Epoch 10 | lr=0.005782172325201155\n",
      " train loss: 2.733691692352295, train acc: 0.3487125039100647\n",
      " val loss: 2.7540462017059326, val acc: 0.3522999882698059\n",
      "\n"
     ]
    },
    {
     "name": "stderr",
     "output_type": "stream",
     "text": [
      "100%|██████████| 2500/2500 [04:52<00:00,  8.56it/s]\n"
     ]
    },
    {
     "name": "stdout",
     "output_type": "stream",
     "text": [
      "Epoch 11 | lr=0.005\n",
      " train loss: 2.5994961261749268, train acc: 0.3777250051498413\n",
      " val loss: 2.694422483444214, val acc: 0.36535000801086426\n",
      "\n"
     ]
    },
    {
     "name": "stderr",
     "output_type": "stream",
     "text": [
      "100%|██████████| 2500/2500 [04:47<00:00,  8.71it/s]\n"
     ]
    },
    {
     "name": "stdout",
     "output_type": "stream",
     "text": [
      "Epoch 12 | lr=0.004217827674798847\n",
      " train loss: 2.4615840911865234, train acc: 0.4022125005722046\n",
      " val loss: 2.644106149673462, val acc: 0.37959998846054077\n",
      "\n"
     ]
    },
    {
     "name": "stderr",
     "output_type": "stream",
     "text": [
      "100%|██████████| 2500/2500 [04:45<00:00,  8.75it/s]\n"
     ]
    },
    {
     "name": "stdout",
     "output_type": "stream",
     "text": [
      "Epoch 13 | lr=0.0034549150281252636\n",
      " train loss: 2.3312108516693115, train acc: 0.4267500042915344\n",
      " val loss: 2.6070032119750977, val acc: 0.38960000872612\n",
      "\n"
     ]
    },
    {
     "name": "stderr",
     "output_type": "stream",
     "text": [
      "100%|██████████| 2500/2500 [04:46<00:00,  8.72it/s]\n"
     ]
    },
    {
     "name": "stdout",
     "output_type": "stream",
     "text": [
      "Epoch 14 | lr=0.0027300475013022664\n",
      " train loss: 2.1951112747192383, train acc: 0.45426249504089355\n",
      " val loss: 2.5579288005828857, val acc: 0.3977000117301941\n",
      "\n"
     ]
    },
    {
     "name": "stderr",
     "output_type": "stream",
     "text": [
      "100%|██████████| 2500/2500 [04:44<00:00,  8.80it/s]\n"
     ]
    },
    {
     "name": "stdout",
     "output_type": "stream",
     "text": [
      "Epoch 15 | lr=0.0020610737385376348\n",
      " train loss: 2.060258626937866, train acc: 0.48467499017715454\n",
      " val loss: 2.53922700881958, val acc: 0.4059000015258789\n",
      "\n"
     ]
    },
    {
     "name": "stderr",
     "output_type": "stream",
     "text": [
      "100%|██████████| 2500/2500 [04:45<00:00,  8.75it/s]\n"
     ]
    },
    {
     "name": "stdout",
     "output_type": "stream",
     "text": [
      "Epoch 16 | lr=0.0014644660940672626\n",
      " train loss: 1.9183276891708374, train acc: 0.5144000053405762\n",
      " val loss: 2.5119526386260986, val acc: 0.4180000126361847\n",
      "\n"
     ]
    },
    {
     "name": "stderr",
     "output_type": "stream",
     "text": [
      "100%|██████████| 2500/2500 [04:43<00:00,  8.81it/s]\n"
     ]
    },
    {
     "name": "stdout",
     "output_type": "stream",
     "text": [
      "Epoch 17 | lr=0.0009549150281252633\n",
      " train loss: 1.7938072681427002, train acc: 0.5431625247001648\n",
      " val loss: 2.502913236618042, val acc: 0.42080000042915344\n",
      "\n"
     ]
    },
    {
     "name": "stderr",
     "output_type": "stream",
     "text": [
      "100%|██████████| 2500/2500 [04:55<00:00,  8.47it/s]\n"
     ]
    },
    {
     "name": "stdout",
     "output_type": "stream",
     "text": [
      "Epoch 18 | lr=0.0005449673790581611\n",
      " train loss: 1.6851636171340942, train acc: 0.5683375000953674\n",
      " val loss: 2.5141258239746094, val acc: 0.4247500002384186\n",
      "\n"
     ]
    },
    {
     "name": "stderr",
     "output_type": "stream",
     "text": [
      "100%|██████████| 2500/2500 [05:24<00:00,  7.70it/s]\n"
     ]
    },
    {
     "name": "stdout",
     "output_type": "stream",
     "text": [
      "Epoch 19 | lr=0.00024471741852423234\n",
      " train loss: 1.6106435060501099, train acc: 0.5867999792098999\n",
      " val loss: 2.4952008724212646, val acc: 0.42879998683929443\n",
      "\n"
     ]
    },
    {
     "name": "stderr",
     "output_type": "stream",
     "text": [
      "100%|██████████| 2500/2500 [05:20<00:00,  7.79it/s]\n"
     ]
    },
    {
     "name": "stdout",
     "output_type": "stream",
     "text": [
      "Epoch 20 | lr=6.15582970243117e-05\n",
      " train loss: 1.5602314472198486, train acc: 0.5975124835968018\n",
      " val loss: 2.4891648292541504, val acc: 0.43035000562667847\n",
      "\n"
     ]
    }
   ],
   "source": [
    "torch.manual_seed(1984)\n",
    "np.random.seed(1984)\n",
    "torch.cuda.manual_seed(1984)\n",
    "torch.backends.cudnn.deterministic = True\n",
    "\n",
    "optimizer = optim.SGD(net.parameters(), lr=0.01, momentum=0.9, weight_decay=1e-4, nesterov=True)\n",
    "scheduler = optim.lr_scheduler.CosineAnnealingLR(optimizer, 20)\n",
    "# scheduler = optim.lr_scheduler.MultiStepLR(optimizer, [8, 12], gamma=0.1)\n",
    "train_loss_log, train_acc_log, val_loss_log, val_acc_log = train(net, optimizer, 20, train_loader, val_loader, scheduler)"
   ]
  },
  {
   "cell_type": "code",
   "execution_count": 13,
   "metadata": {},
   "outputs": [],
   "source": [
    "# net = torch.load(\"model.pth\", weights_only=False)\n",
    "# net = net.to(device)\n",
    "# net.eval()"
   ]
  },
  {
   "cell_type": "code",
   "execution_count": 14,
   "metadata": {},
   "outputs": [
    {
     "data": {
      "image/png": "[encoded data removed]",
      "text/plain": [
       "<Figure size 1400x600 with 2 Axes>"
      ]
     },
     "metadata": {},
     "output_type": "display_data"
    }
   ],
   "source": [
    "fig, ax = plt.subplots(1, 2, figsize = (14, 6))\n",
    "\n",
    "ax[0].plot(train_loss_log, label = \"обучение\")\n",
    "ax[0].plot((torch.arange(len(val_loss_log)) + 1) * len(train_loader), val_loss_log, label = \"валидация\", marker = \"o\")\n",
    "ax[0].set_xlabel(\"Шаг оптимизатора\")\n",
    "ax[0].set_ylabel(\"Лосс функция\")\n",
    "ax[0].set_title(\"График лосс функции от номера шага оптимизатора\")\n",
    "ax[0].grid(axis = \"y\")\n",
    "ax[0].legend()\n",
    "\n",
    "\n",
    "ax[1].plot(train_acc_log, label = \"обучение\")\n",
    "ax[1].plot((torch.arange(len(val_acc_log)) + 1) * len(train_loader), val_acc_log, label = \"валидация\", marker = \"o\")\n",
    "ax[1].set_xlabel(\"Шаг оптимизатора\")\n",
    "ax[1].set_ylabel(\"Точность классификации\")\n",
    "ax[1].set_title(\"График точности классификатора от номера шага оптимизатора\")\n",
    "ax[1].grid(axis = \"y\")\n",
    "ax[1].legend()\n",
    "\n",
    "plt.tight_layout()\n",
    "plt.show()"
   ]
  },
  {
   "cell_type": "code",
   "execution_count": 15,
   "metadata": {},
   "outputs": [
    {
     "name": "stderr",
     "output_type": "stream",
     "text": [
      "100%|██████████| 10000/10000 [03:31<00:00, 47.19it/s]\n"
     ]
    }
   ],
   "source": [
    "files = [file for file in os.listdir(\"test\")]\n",
    "\n",
    "pred = []\n",
    "\n",
    "with torch.no_grad():\n",
    "    for i in tqdm.tqdm(range(len(files))):\n",
    "        file = files[i]\n",
    "        transform = v2.Normalize((128, 128, 128), (128, 128, 128))\n",
    "        img = torchvision.io.read_image(f\"test/{file}\").to(torch.float).to(device)\n",
    "        img = transform(img).unsqueeze(0)\n",
    "        logits = net(img)[0]\n",
    "        pred.append(int(logits.argmax().to(\"cpu\")))\n"
   ]
  },
  {
   "cell_type": "code",
   "execution_count": 16,
   "metadata": {},
   "outputs": [],
   "source": [
    "data = {\n",
    "    \"Id\" : files,\n",
    "    \"Category\" : pred\n",
    "}\n",
    "\n",
    "df = pd.DataFrame(data)"
   ]
  },
  {
   "cell_type": "code",
   "execution_count": 17,
   "metadata": {},
   "outputs": [],
   "source": [
    "df.to_csv(\"labels_test.csv\", index=False)"
   ]
  },
  {
   "cell_type": "code",
   "execution_count": null,
   "metadata": {},
   "outputs": [],
   "source": []
  }
 ],
 "metadata": {
  "kernelspec": {
   "display_name": "Python 3",
   "language": "python",
   "name": "python3"
  },
  "language_info": {
   "codemirror_mode": {
    "name": "ipython",
    "version": 3
   },
   "file_extension": ".py",
   "mimetype": "text/x-python",
   "name": "python",
   "nbconvert_exporter": "python",
   "pygments_lexer": "ipython3",
   "version": "3.10.8"
  }
 },
 "nbformat": 4,
 "nbformat_minor": 2
}
