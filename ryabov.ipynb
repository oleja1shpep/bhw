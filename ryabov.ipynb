{
 "cells": [
  {
   "cell_type": "code",
   "execution_count": 1,
   "metadata": {},
   "outputs": [],
   "source": [
    "import torch\n",
    "import torch.nn as nn\n",
    "import torch.nn.functional as F\n",
    "import torch.optim as optim\n",
    "import os\n",
    "import numpy as np\n",
    "import tqdm\n",
    "import random\n",
    "\n",
    "from torch.utils.data import Dataset, DataLoader\n",
    "\n",
    "import torchvision\n",
    "import torchvision.transforms as transforms\n",
    "from torchvision.transforms import v2\n",
    "from torchvision.models import *\n",
    "\n",
    "import pandas as pd\n",
    "import matplotlib.pyplot as plt\n",
    "\n",
    "from sklearn.model_selection import train_test_split\n",
    "\n",
    "assert True == torch.cuda.is_available()"
   ]
  },
  {
   "cell_type": "code",
   "execution_count": 2,
   "metadata": {},
   "outputs": [
    {
     "name": "stdout",
     "output_type": "stream",
     "text": [
      "cuda:0\n"
     ]
    }
   ],
   "source": [
    "device = torch.device('cuda:0' if torch.cuda.is_available() else 'cpu')\n",
    "\n",
    "print(device)"
   ]
  },
  {
   "cell_type": "code",
   "execution_count": null,
   "metadata": {},
   "outputs": [],
   "source": [
    "# files = [file for file in os.listdir(\"test\")]\n",
    "\n",
    "# means = [0,0,0]\n",
    "# vars = [0,0,0]\n",
    "\n",
    "# for i in tqdm.tqdm(range(len(files))):\n",
    "#     file = files[i]\n",
    "#     img = torchvision.io.read_image(f\"test/{file}\").to(torch.float).to(device)\n",
    "#     for j in range(3):\n",
    "#         means[j] += img[j].mean()\n",
    "        "
   ]
  },
  {
   "cell_type": "code",
   "execution_count": 3,
   "metadata": {},
   "outputs": [],
   "source": [
    "class ImageDataset(Dataset):\n",
    "    def __init__(self, X, Y, train = True):\n",
    "        self.X = X\n",
    "        self.Y = Y\n",
    "        self.train = train\n",
    "\n",
    "    def __len__(self):\n",
    "        return len(self.Y)\n",
    "\n",
    "    def __getitem__(self, item):\n",
    "        normalize = v2.Normalize((128, 128, 128), (128, 128, 128))\n",
    "        augmentations = transforms.Compose([\n",
    "            v2.RandomHorizontalFlip(),\n",
    "            # v2.RandomAutocontrast(),\n",
    "            # v2.RandomSolarize(0.4),\n",
    "            transforms.RandomApply([v2.RandomAffine(degrees=0, translate=(1/8,1/8))], p=0.6),\n",
    "            # v2.RandomEqualize(0.5),\n",
    "            # v2.RandomPosterize(16),\n",
    "            # v2.RandomGrayscale(0.3),\n",
    "            # v2.RandomPhotometricDistort(saturation=[1, 1.5], hue = [0,0], brightness=[0.875, 1.125], contrast=[0.9,1.1], p = 0.3),\n",
    "            # v2.ColorJitter(saturation=[1, 1], hue = 0, brightness=[1, 1], contrast=[0.9,1.1])\n",
    "        ])\n",
    "        img = torchvision.io.read_image(f\"trainval/{self.X[item]}\").to(torch.float).to(device)\n",
    "        img = normalize(img)\n",
    "        if self.train:\n",
    "            img = augmentations(img)\n",
    "        return img, self.Y[item]\n",
    "\n",
    "data = pd.read_csv(\"labels.csv\")\n",
    "X_train, X_val, y_train, y_val = train_test_split(data[\"Id\"], data[\"Category\"], test_size=0.2, random_state=42, shuffle=True)\n",
    "\n",
    "# X_train = X_train.reset_index()[\"Id\"]\n",
    "# y_train = y_train.reset_index()[\"Category\"]\n",
    "# X_val = X_val.reset_index()[\"Id\"]\n",
    "# y_val = y_val.reset_index()[\"Category\"]\n",
    "\n",
    "train_dataset = ImageDataset(X_train.to_list(), y_train.to_list())\n",
    "val_dataset = ImageDataset(X_val.to_list(), y_val.to_list(), False)"
   ]
  },
  {
   "cell_type": "code",
   "execution_count": 4,
   "metadata": {},
   "outputs": [],
   "source": [
    "train_loader = DataLoader(train_dataset, 32, True)\n",
    "val_loader = DataLoader(val_dataset, 32, True)"
   ]
  },
  {
   "cell_type": "code",
   "execution_count": 5,
   "metadata": {},
   "outputs": [
    {
     "data": {
      "image/png": "[encoded data removed]",
      "text/plain": [
       "<Figure size 640x480 with 1 Axes>"
      ]
     },
     "metadata": {},
     "output_type": "display_data"
    },
    {
     "name": "stdout",
     "output_type": "stream",
     "text": [
      "torch.Size([3, 40, 40])\n"
     ]
    }
   ],
   "source": [
    "def imshow(img):\n",
    "    img = img / 2 + 0.5    \n",
    "    npimg = img.to(\"cpu\").numpy()\n",
    "    plt.imshow(np.transpose(npimg, (1, 2, 0)))\n",
    "    plt.show()\n",
    "    print(img.shape)\n",
    "\n",
    "imshow(train_dataset[2][0])\n"
   ]
  },
  {
   "cell_type": "code",
   "execution_count": 6,
   "metadata": {},
   "outputs": [],
   "source": [
    "# for data, target in train_loader:\n",
    "#     print(data)\n",
    "#     print(target)\n",
    "#     break"
   ]
  },
  {
   "cell_type": "code",
   "execution_count": 7,
   "metadata": {},
   "outputs": [],
   "source": [
    "@torch.no_grad()\n",
    "def test(model, loader):\n",
    "    loss_log = []\n",
    "    acc_log = []\n",
    "    model.eval()\n",
    "    criterion = F.cross_entropy\n",
    "    \n",
    "    for data, target in tqdm.tqdm(loader):\n",
    "\n",
    "        data = data.to(device)  # images: batch_size x num_channels x height x width\n",
    "        target = target.to(device)  # labels: batch_size\n",
    "\n",
    "        logits = model(data)  # logits: batch_size x num_classes\n",
    "        loss = criterion(logits, target)\n",
    "    \n",
    "        loss_log.append(loss.item())\n",
    "        \n",
    "        acc = (logits.argmax(dim=1) == target).sum() / len(target)\n",
    "\n",
    "        acc_log.append(acc.item()) \n",
    "        \n",
    "    return torch.tensor(loss_log).mean(), torch.tensor(acc_log).mean()\n",
    "\n",
    "def train_epoch(model, optimizer, train_loader):\n",
    "    loss_log = []\n",
    "    acc_log = []\n",
    "    model.train()\n",
    "    criterion = F.cross_entropy\n",
    "    \n",
    "    for data, target in tqdm.tqdm(train_loader):\n",
    "        \n",
    "        data = data.to(device)\n",
    "        target = target.to(device)\n",
    "\n",
    "        optimizer.zero_grad()\n",
    "        logits = model(data)\n",
    "        loss = criterion(logits, target)  # use this loss for any training statistics\n",
    "        loss.backward()\n",
    "        optimizer.step()\n",
    "        \n",
    "        loss_log.append(loss.item())\n",
    "        \n",
    "        acc = (logits.argmax(dim=1) == target).sum() / len(target)\n",
    "        \n",
    "        acc_log.append(acc.item()) \n",
    "\n",
    "    return loss_log, acc_log\n",
    "\n",
    "def train(model, optimizer, n_epochs, train_loader, val_loader, scheduler=None):\n",
    "    train_loss_log, train_acc_log, val_loss_log, val_acc_log = [], [], [], []\n",
    "\n",
    "    for epoch in range(n_epochs):\n",
    "        train_loss, train_acc = train_epoch(model, optimizer, train_loader)\n",
    "        val_loss, val_acc = test(model, val_loader)\n",
    "        \n",
    "        train_loss_log.extend(train_loss)\n",
    "        train_acc_log.extend(train_acc)\n",
    "        \n",
    "        val_loss_log.append(val_loss)\n",
    "        val_acc_log.append(val_acc)\n",
    "        if scheduler is not None:\n",
    "            print(f\"Epoch {epoch + 1} | lr={scheduler.get_last_lr()[0]}\")\n",
    "        else:\n",
    "            print(f\"Epoch {epoch + 1}\")\n",
    "        print(f\" train loss: {torch.tensor(train_loss).mean()}, train acc: {torch.tensor(train_acc).mean()}\")\n",
    "        print(f\" val loss: {val_loss}, val acc: {val_acc}\\n\")\n",
    "\n",
    "        torch.save(model, \"model.pth\")\n",
    "        \n",
    "        \n",
    "        if scheduler is not None:\n",
    "            scheduler.step()\n",
    "\n",
    "    return train_loss_log, train_acc_log, val_loss_log, val_acc_log"
   ]
  },
  {
   "cell_type": "code",
   "execution_count": 8,
   "metadata": {},
   "outputs": [],
   "source": [
    "net = efficientnet_v2_s(num_classes=200)\n",
    "\n",
    "net.features[0][0].stride = (1, 1)\n",
    "net.features[2][0].block[0][0].stride = (1, 1)\n",
    "# net.features[3][0].block[0][0].stride = (1, 1)\n",
    "\n",
    "net.classifier[0].p = 0.6\n",
    "\n",
    "# print(net)"
   ]
  },
  {
   "cell_type": "code",
   "execution_count": 9,
   "metadata": {},
   "outputs": [],
   "source": [
    "# model = efficientnet_v2_s(num_classes=200)\n",
    "# rand_input = torch.randn(1,3,40,40)\n",
    "# model(rand_input).shape\n",
    "\n",
    "# torch.onnx.export(model, rand_input, \"efficient_net.onnx\")\n",
    "\n",
    "# !netron efficient_net.onnx"
   ]
  },
  {
   "cell_type": "code",
   "execution_count": 10,
   "metadata": {},
   "outputs": [],
   "source": [
    "net = net.to(device)"
   ]
  },
  {
   "cell_type": "markdown",
   "metadata": {},
   "source": [
    "Training"
   ]
  },
  {
   "cell_type": "code",
   "execution_count": 11,
   "metadata": {},
   "outputs": [
    {
     "name": "stderr",
     "output_type": "stream",
     "text": [
      "100%|██████████| 2500/2500 [05:38<00:00,  7.39it/s]\n",
      "100%|██████████| 625/625 [00:26<00:00, 23.89it/s]\n"
     ]
    },
    {
     "name": "stdout",
     "output_type": "stream",
     "text": [
      "Epoch 1 | lr=0.01\n",
      " train loss: 5.132774829864502, train acc: 0.017812499776482582\n",
      " val loss: 4.807789325714111, val acc: 0.03739999979734421\n",
      "\n"
     ]
    },
    {
     "name": "stderr",
     "output_type": "stream",
     "text": [
      "100%|██████████| 2500/2500 [05:39<00:00,  7.36it/s]\n",
      "100%|██████████| 625/625 [00:24<00:00, 25.51it/s]\n"
     ]
    },
    {
     "name": "stdout",
     "output_type": "stream",
     "text": [
      "Epoch 2 | lr=0.009972609476841367\n",
      " train loss: 4.736661911010742, train acc: 0.04600000008940697\n",
      " val loss: 4.463888168334961, val acc: 0.07329999655485153\n",
      "\n"
     ]
    },
    {
     "name": "stderr",
     "output_type": "stream",
     "text": [
      "100%|██████████| 2500/2500 [05:26<00:00,  7.66it/s]\n",
      "100%|██████████| 625/625 [00:24<00:00, 25.90it/s]\n"
     ]
    },
    {
     "name": "stdout",
     "output_type": "stream",
     "text": [
      "Epoch 3 | lr=0.009890738003669028\n",
      " train loss: 4.450878143310547, train acc: 0.07536250352859497\n",
      " val loss: 4.126889228820801, val acc: 0.10894999653100967\n",
      "\n"
     ]
    },
    {
     "name": "stderr",
     "output_type": "stream",
     "text": [
      "100%|██████████| 2500/2500 [05:29<00:00,  7.58it/s]\n",
      "100%|██████████| 625/625 [00:26<00:00, 24.03it/s]\n"
     ]
    },
    {
     "name": "stdout",
     "output_type": "stream",
     "text": [
      "Epoch 4 | lr=0.009755282581475769\n",
      " train loss: 4.132978439331055, train acc: 0.1149125024676323\n",
      " val loss: 3.77545428276062, val acc: 0.16019999980926514\n",
      "\n"
     ]
    },
    {
     "name": "stderr",
     "output_type": "stream",
     "text": [
      "100%|██████████| 2500/2500 [05:27<00:00,  7.64it/s]\n",
      "100%|██████████| 625/625 [00:24<00:00, 25.32it/s]\n"
     ]
    },
    {
     "name": "stdout",
     "output_type": "stream",
     "text": [
      "Epoch 5 | lr=0.009567727288213004\n",
      " train loss: 3.849635601043701, train acc: 0.15497499704360962\n",
      " val loss: 3.554142951965332, val acc: 0.19740000367164612\n",
      "\n"
     ]
    },
    {
     "name": "stderr",
     "output_type": "stream",
     "text": [
      "100%|██████████| 2500/2500 [05:25<00:00,  7.68it/s]\n",
      "100%|██████████| 625/625 [00:23<00:00, 26.18it/s]\n"
     ]
    },
    {
     "name": "stdout",
     "output_type": "stream",
     "text": [
      "Epoch 6 | lr=0.009330127018922194\n",
      " train loss: 3.634542942047119, train acc: 0.18930000066757202\n",
      " val loss: 3.3525679111480713, val acc: 0.23555000126361847\n",
      "\n"
     ]
    },
    {
     "name": "stderr",
     "output_type": "stream",
     "text": [
      "100%|██████████| 2500/2500 [05:25<00:00,  7.68it/s]\n",
      "100%|██████████| 625/625 [00:27<00:00, 23.12it/s]\n"
     ]
    },
    {
     "name": "stdout",
     "output_type": "stream",
     "text": [
      "Epoch 7 | lr=0.009045084971874737\n",
      " train loss: 3.4415807723999023, train acc: 0.22245000302791595\n",
      " val loss: 3.1939992904663086, val acc: 0.26840001344680786\n",
      "\n"
     ]
    },
    {
     "name": "stderr",
     "output_type": "stream",
     "text": [
      "100%|██████████| 2500/2500 [05:39<00:00,  7.37it/s]\n",
      "100%|██████████| 625/625 [00:24<00:00, 25.34it/s]\n"
     ]
    },
    {
     "name": "stdout",
     "output_type": "stream",
     "text": [
      "Epoch 8 | lr=0.00871572412738697\n",
      " train loss: 3.2838633060455322, train acc: 0.2476624995470047\n",
      " val loss: 3.0402541160583496, val acc: 0.29670000076293945\n",
      "\n"
     ]
    },
    {
     "name": "stderr",
     "output_type": "stream",
     "text": [
      "100%|██████████| 2500/2500 [05:47<00:00,  7.19it/s]\n",
      "100%|██████████| 625/625 [00:25<00:00, 24.39it/s]\n"
     ]
    },
    {
     "name": "stdout",
     "output_type": "stream",
     "text": [
      "Epoch 9 | lr=0.008345653031794291\n",
      " train loss: 3.135331630706787, train acc: 0.27486249804496765\n",
      " val loss: 2.93377423286438, val acc: 0.31839999556541443\n",
      "\n"
     ]
    },
    {
     "name": "stderr",
     "output_type": "stream",
     "text": [
      "100%|██████████| 2500/2500 [05:40<00:00,  7.34it/s]\n",
      "100%|██████████| 625/625 [00:25<00:00, 24.80it/s]\n"
     ]
    },
    {
     "name": "stdout",
     "output_type": "stream",
     "text": [
      "Epoch 10 | lr=0.007938926261462365\n",
      " train loss: 3.014817237854004, train acc: 0.2979249954223633\n",
      " val loss: 2.838550090789795, val acc: 0.33410000801086426\n",
      "\n"
     ]
    },
    {
     "name": "stderr",
     "output_type": "stream",
     "text": [
      "100%|██████████| 2500/2500 [05:49<00:00,  7.16it/s]\n",
      "100%|██████████| 625/625 [00:30<00:00, 20.22it/s]\n"
     ]
    },
    {
     "name": "stdout",
     "output_type": "stream",
     "text": [
      "Epoch 11 | lr=0.007499999999999999\n",
      " train loss: 2.9020087718963623, train acc: 0.31603750586509705\n",
      " val loss: 2.7950589656829834, val acc: 0.34779998660087585\n",
      "\n"
     ]
    },
    {
     "name": "stderr",
     "output_type": "stream",
     "text": [
      "100%|██████████| 2500/2500 [05:33<00:00,  7.49it/s]\n",
      "100%|██████████| 625/625 [00:24<00:00, 25.38it/s]\n"
     ]
    },
    {
     "name": "stdout",
     "output_type": "stream",
     "text": [
      "Epoch 12 | lr=0.007033683215379001\n",
      " train loss: 2.7988383769989014, train acc: 0.33697500824928284\n",
      " val loss: 2.701817512512207, val acc: 0.35885000228881836\n",
      "\n"
     ]
    },
    {
     "name": "stderr",
     "output_type": "stream",
     "text": [
      "100%|██████████| 2500/2500 [05:31<00:00,  7.54it/s]\n",
      "100%|██████████| 625/625 [00:24<00:00, 25.34it/s]\n"
     ]
    },
    {
     "name": "stdout",
     "output_type": "stream",
     "text": [
      "Epoch 13 | lr=0.0065450849718747366\n",
      " train loss: 2.7048187255859375, train acc: 0.3579249978065491\n",
      " val loss: 2.661494255065918, val acc: 0.36924999952316284\n",
      "\n"
     ]
    },
    {
     "name": "stderr",
     "output_type": "stream",
     "text": [
      "100%|██████████| 2500/2500 [05:41<00:00,  7.33it/s]\n",
      "100%|██████████| 625/625 [00:24<00:00, 25.25it/s]\n"
     ]
    },
    {
     "name": "stdout",
     "output_type": "stream",
     "text": [
      "Epoch 14 | lr=0.006039558454088796\n",
      " train loss: 2.6109771728515625, train acc: 0.37575000524520874\n",
      " val loss: 2.591627597808838, val acc: 0.3833500146865845\n",
      "\n"
     ]
    },
    {
     "name": "stderr",
     "output_type": "stream",
     "text": [
      "100%|██████████| 2500/2500 [05:43<00:00,  7.29it/s]\n",
      "100%|██████████| 625/625 [00:27<00:00, 22.85it/s]\n"
     ]
    },
    {
     "name": "stdout",
     "output_type": "stream",
     "text": [
      "Epoch 15 | lr=0.0055226423163382676\n",
      " train loss: 2.5162484645843506, train acc: 0.39515000581741333\n",
      " val loss: 2.5450122356414795, val acc: 0.39364999532699585\n",
      "\n"
     ]
    },
    {
     "name": "stderr",
     "output_type": "stream",
     "text": [
      "100%|██████████| 2500/2500 [05:36<00:00,  7.42it/s]\n",
      "100%|██████████| 625/625 [00:23<00:00, 26.21it/s]\n"
     ]
    },
    {
     "name": "stdout",
     "output_type": "stream",
     "text": [
      "Epoch 16 | lr=0.005000000000000001\n",
      " train loss: 2.4284889698028564, train acc: 0.4117250144481659\n",
      " val loss: 2.517078399658203, val acc: 0.40435001254081726\n",
      "\n"
     ]
    },
    {
     "name": "stderr",
     "output_type": "stream",
     "text": [
      "100%|██████████| 2500/2500 [05:50<00:00,  7.14it/s]\n",
      "100%|██████████| 625/625 [00:27<00:00, 22.55it/s]\n"
     ]
    },
    {
     "name": "stdout",
     "output_type": "stream",
     "text": [
      "Epoch 17 | lr=0.0044773576836617335\n",
      " train loss: 2.337533473968506, train acc: 0.42866250872612\n",
      " val loss: 2.4702541828155518, val acc: 0.4126499891281128\n",
      "\n"
     ]
    },
    {
     "name": "stderr",
     "output_type": "stream",
     "text": [
      "100%|██████████| 2500/2500 [05:39<00:00,  7.35it/s]\n",
      "100%|██████████| 625/625 [00:26<00:00, 23.59it/s]\n"
     ]
    },
    {
     "name": "stdout",
     "output_type": "stream",
     "text": [
      "Epoch 18 | lr=0.003960441545911203\n",
      " train loss: 2.248569965362549, train acc: 0.446212500333786\n",
      " val loss: 2.439326286315918, val acc: 0.41659998893737793\n",
      "\n"
     ]
    },
    {
     "name": "stderr",
     "output_type": "stream",
     "text": [
      "100%|██████████| 2500/2500 [05:34<00:00,  7.47it/s]\n",
      "100%|██████████| 625/625 [00:24<00:00, 25.82it/s]\n"
     ]
    },
    {
     "name": "stdout",
     "output_type": "stream",
     "text": [
      "Epoch 19 | lr=0.003454915028125263\n",
      " train loss: 2.1662240028381348, train acc: 0.4606750011444092\n",
      " val loss: 2.428201913833618, val acc: 0.42445001006126404\n",
      "\n"
     ]
    },
    {
     "name": "stderr",
     "output_type": "stream",
     "text": [
      "100%|██████████| 2500/2500 [05:22<00:00,  7.75it/s]\n",
      "100%|██████████| 625/625 [00:24<00:00, 25.95it/s]\n"
     ]
    },
    {
     "name": "stdout",
     "output_type": "stream",
     "text": [
      "Epoch 20 | lr=0.0029663167846209993\n",
      " train loss: 2.0797786712646484, train acc: 0.4799624979496002\n",
      " val loss: 2.394380569458008, val acc: 0.43470001220703125\n",
      "\n"
     ]
    },
    {
     "name": "stderr",
     "output_type": "stream",
     "text": [
      "100%|██████████| 2500/2500 [05:22<00:00,  7.74it/s]\n",
      "100%|██████████| 625/625 [00:24<00:00, 25.85it/s]\n"
     ]
    },
    {
     "name": "stdout",
     "output_type": "stream",
     "text": [
      "Epoch 21 | lr=0.0025000000000000014\n",
      " train loss: 1.99043869972229, train acc: 0.5006374716758728\n",
      " val loss: 2.3727757930755615, val acc: 0.43799999356269836\n",
      "\n"
     ]
    },
    {
     "name": "stderr",
     "output_type": "stream",
     "text": [
      "100%|██████████| 2500/2500 [05:20<00:00,  7.80it/s]\n",
      "100%|██████████| 625/625 [00:23<00:00, 26.29it/s]\n"
     ]
    },
    {
     "name": "stdout",
     "output_type": "stream",
     "text": [
      "Epoch 22 | lr=0.002061073738537635\n",
      " train loss: 1.8903849124908447, train acc: 0.5203375220298767\n",
      " val loss: 2.35131573677063, val acc: 0.4474000036716461\n",
      "\n"
     ]
    },
    {
     "name": "stderr",
     "output_type": "stream",
     "text": [
      "100%|██████████| 2500/2500 [05:19<00:00,  7.82it/s]\n",
      "100%|██████████| 625/625 [00:23<00:00, 26.34it/s]\n"
     ]
    },
    {
     "name": "stdout",
     "output_type": "stream",
     "text": [
      "Epoch 23 | lr=0.0016543469682057108\n",
      " train loss: 1.8075472116470337, train acc: 0.5389500260353088\n",
      " val loss: 2.349888563156128, val acc: 0.4507499933242798\n",
      "\n"
     ]
    },
    {
     "name": "stderr",
     "output_type": "stream",
     "text": [
      "100%|██████████| 2500/2500 [05:19<00:00,  7.83it/s]\n",
      "100%|██████████| 625/625 [00:23<00:00, 26.38it/s]\n"
     ]
    },
    {
     "name": "stdout",
     "output_type": "stream",
     "text": [
      "Epoch 24 | lr=0.0012842758726130297\n",
      " train loss: 1.716328501701355, train acc: 0.5582000017166138\n",
      " val loss: 2.335296154022217, val acc: 0.4542999863624573\n",
      "\n"
     ]
    },
    {
     "name": "stderr",
     "output_type": "stream",
     "text": [
      "100%|██████████| 2500/2500 [05:20<00:00,  7.81it/s]\n",
      "100%|██████████| 625/625 [00:24<00:00, 25.78it/s]\n"
     ]
    },
    {
     "name": "stdout",
     "output_type": "stream",
     "text": [
      "Epoch 25 | lr=0.0009549150281252636\n",
      " train loss: 1.6324256658554077, train acc: 0.5787374973297119\n",
      " val loss: 2.3288097381591797, val acc: 0.46265000104904175\n",
      "\n"
     ]
    },
    {
     "name": "stderr",
     "output_type": "stream",
     "text": [
      "100%|██████████| 2500/2500 [05:24<00:00,  7.71it/s]\n",
      "100%|██████████| 625/625 [00:27<00:00, 22.39it/s]\n"
     ]
    },
    {
     "name": "stdout",
     "output_type": "stream",
     "text": [
      "Epoch 26 | lr=0.0006698729810778067\n",
      " train loss: 1.5507280826568604, train acc: 0.5963500142097473\n",
      " val loss: 2.3345718383789062, val acc: 0.4648999869823456\n",
      "\n"
     ]
    },
    {
     "name": "stderr",
     "output_type": "stream",
     "text": [
      "100%|██████████| 2500/2500 [05:42<00:00,  7.31it/s]\n",
      "100%|██████████| 625/625 [00:23<00:00, 26.12it/s]\n"
     ]
    },
    {
     "name": "stdout",
     "output_type": "stream",
     "text": [
      "Epoch 27 | lr=0.00043227271178699527\n",
      " train loss: 1.4757764339447021, train acc: 0.6132000088691711\n",
      " val loss: 2.3395884037017822, val acc: 0.4643999934196472\n",
      "\n"
     ]
    },
    {
     "name": "stderr",
     "output_type": "stream",
     "text": [
      "100%|██████████| 2500/2500 [05:46<00:00,  7.21it/s]\n",
      "100%|██████████| 625/625 [00:29<00:00, 20.89it/s]\n"
     ]
    },
    {
     "name": "stdout",
     "output_type": "stream",
     "text": [
      "Epoch 28 | lr=0.0002447174185242324\n",
      " train loss: 1.4246958494186401, train acc: 0.6266375184059143\n",
      " val loss: 2.328742027282715, val acc: 0.470550000667572\n",
      "\n"
     ]
    },
    {
     "name": "stderr",
     "output_type": "stream",
     "text": [
      "100%|██████████| 2500/2500 [05:36<00:00,  7.43it/s]\n",
      "100%|██████████| 625/625 [00:27<00:00, 22.73it/s]\n"
     ]
    },
    {
     "name": "stdout",
     "output_type": "stream",
     "text": [
      "Epoch 29 | lr=0.00010926199633097158\n",
      " train loss: 1.392293095588684, train acc: 0.6321874856948853\n",
      " val loss: 2.3257250785827637, val acc: 0.47200000286102295\n",
      "\n"
     ]
    },
    {
     "name": "stderr",
     "output_type": "stream",
     "text": [
      "100%|██████████| 2500/2500 [05:38<00:00,  7.37it/s]\n",
      "100%|██████████| 625/625 [00:25<00:00, 24.98it/s]\n"
     ]
    },
    {
     "name": "stdout",
     "output_type": "stream",
     "text": [
      "Epoch 30 | lr=2.7390523158633e-05\n",
      " train loss: 1.3668773174285889, train acc: 0.6415125131607056\n",
      " val loss: 2.3430798053741455, val acc: 0.47255000472068787\n",
      "\n"
     ]
    }
   ],
   "source": [
    "torch.manual_seed(1984)\n",
    "random.seed(1984)\n",
    "np.random.seed(1984)\n",
    "torch.cuda.manual_seed(1984)\n",
    "# torch.backends.cudnn.enabled=False\n",
    "torch.backends.cudnn.deterministic = True\n",
    "\n",
    "optimizer = optim.SGD(net.parameters(), lr=0.01, momentum=0.9, weight_decay=1e-4, nesterov=True)\n",
    "scheduler = optim.lr_scheduler.CosineAnnealingLR(optimizer, 30)\n",
    "train_loss_log, train_acc_log, val_loss_log, val_acc_log = train(net, optimizer, 30, train_loader, val_loader, scheduler)"
   ]
  },
  {
   "cell_type": "markdown",
   "metadata": {},
   "source": [
    "Plots"
   ]
  },
  {
   "cell_type": "code",
   "execution_count": 12,
   "metadata": {},
   "outputs": [
    {
     "data": {
      "image/png": "[encoded data removed]",
      "text/plain": [
       "<Figure size 1400x600 with 2 Axes>"
      ]
     },
     "metadata": {},
     "output_type": "display_data"
    }
   ],
   "source": [
    "fig, ax = plt.subplots(1, 2, figsize = (14, 6))\n",
    "\n",
    "ax[0].plot(train_loss_log, label = \"обучение\")\n",
    "ax[0].plot((torch.arange(len(val_loss_log)) + 1) * len(train_loader), val_loss_log, label = \"валидация\", marker = \"o\")\n",
    "ax[0].set_xlabel(\"Шаг оптимизатора\")\n",
    "ax[0].set_ylabel(\"Лосс функция\")\n",
    "ax[0].set_title(\"График лосс функции от номера шага оптимизатора\")\n",
    "ax[0].grid(axis = \"y\")\n",
    "ax[0].legend()\n",
    "\n",
    "\n",
    "ax[1].plot(train_acc_log, label = \"обучение\")\n",
    "ax[1].plot((torch.arange(len(val_acc_log)) + 1) * len(train_loader), val_acc_log, label = \"валидация\", marker = \"o\")\n",
    "ax[1].set_xlabel(\"Шаг оптимизатора\")\n",
    "ax[1].set_ylabel(\"Точность классификации\")\n",
    "ax[1].set_title(\"График точности классификатора от номера шага оптимизатора\")\n",
    "ax[1].grid(axis = \"y\")\n",
    "ax[1].legend()\n",
    "\n",
    "plt.tight_layout()\n",
    "plt.show()"
   ]
  },
  {
   "cell_type": "code",
   "execution_count": 13,
   "metadata": {},
   "outputs": [],
   "source": [
    "# net = torch.load(\"checkpoint.pth\", weights_only=False)\n",
    "# net = net.to(device)\n",
    "# net.eval()"
   ]
  },
  {
   "cell_type": "markdown",
   "metadata": {},
   "source": [
    "Test Time Augmentation"
   ]
  },
  {
   "cell_type": "code",
   "execution_count": 14,
   "metadata": {},
   "outputs": [
    {
     "name": "stderr",
     "output_type": "stream",
     "text": [
      "100%|██████████| 10000/10000 [16:48<00:00,  9.92it/s]\n"
     ]
    }
   ],
   "source": [
    "files = [file for file in os.listdir(\"test\")]\n",
    "\n",
    "pred = []\n",
    "\n",
    "with torch.no_grad():\n",
    "    for i in tqdm.tqdm(range(len(files))):\n",
    "        file = files[i]\n",
    "        transform = v2.Normalize((128, 128, 128), (128, 128, 128))\n",
    "        augmentations = transforms.Compose([\n",
    "            v2.RandomHorizontalFlip(),\n",
    "            transforms.RandomApply([v2.RandomAffine(degrees=0, translate=(1/8,1/8))], p=0.6),\n",
    "        ])\n",
    "        img = torchvision.io.read_image(f\"test/{file}\").to(torch.float).to(device)\n",
    "        img = transform(img)\n",
    "        res = []\n",
    "        for i in range(5):\n",
    "            logits = net(augmentations(img).unsqueeze(0))[0]\n",
    "            res.append(int(logits.argmax().to(\"cpu\")))\n",
    "        \n",
    "        pred.append(max(res, key=lambda x: res.count(x)))\n"
   ]
  },
  {
   "cell_type": "markdown",
   "metadata": {},
   "source": [
    "Simple testing"
   ]
  },
  {
   "cell_type": "code",
   "execution_count": 15,
   "metadata": {},
   "outputs": [],
   "source": [
    "# files = [file for file in os.listdir(\"test\")]\n",
    "\n",
    "# pred = []\n",
    "\n",
    "# with torch.no_grad():\n",
    "#     for i in tqdm.tqdm(range(len(files))):\n",
    "#         file = files[i]\n",
    "#         transform = v2.Normalize((128, 128, 128), (128, 128, 128))\n",
    "#         img = torchvision.io.read_image(f\"test/{file}\").to(torch.float).to(device)\n",
    "#         img = transform(img)\n",
    "#         logits = net(img.unsqueeze(0))[0]\n",
    "#         pred.append(int(logits.argmax().to(\"cpu\")))"
   ]
  },
  {
   "cell_type": "code",
   "execution_count": 16,
   "metadata": {},
   "outputs": [],
   "source": [
    "data = {\n",
    "    \"Id\" : files,\n",
    "    \"Category\" : pred\n",
    "}\n",
    "\n",
    "df = pd.DataFrame(data)"
   ]
  },
  {
   "cell_type": "code",
   "execution_count": 17,
   "metadata": {},
   "outputs": [],
   "source": [
    "df.to_csv(\"labels_test.csv\", index=False)"
   ]
  },
  {
   "cell_type": "code",
   "execution_count": null,
   "metadata": {},
   "outputs": [],
   "source": []
  }
 ],
 "metadata": {
  "kernelspec": {
   "display_name": "Python 3",
   "language": "python",
   "name": "python3"
  },
  "language_info": {
   "codemirror_mode": {
    "name": "ipython",
    "version": 3
   },
   "file_extension": ".py",
   "mimetype": "text/x-python",
   "name": "python",
   "nbconvert_exporter": "python",
   "pygments_lexer": "ipython3",
   "version": "3.10.8"
  }
 },
 "nbformat": 4,
 "nbformat_minor": 2
}
