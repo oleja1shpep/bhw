{
 "cells": [
  {
   "cell_type": "markdown",
   "metadata": {},
   "source": [
    "Imports"
   ]
  },
  {
   "cell_type": "code",
   "execution_count": 1,
   "metadata": {},
   "outputs": [],
   "source": [
    "import torch\n",
    "import torch.nn as nn\n",
    "import torch.nn.functional as F\n",
    "import torch.optim as optim\n",
    "import os\n",
    "import numpy as np\n",
    "import tqdm\n",
    "import random\n",
    "\n",
    "from torch.utils.data import Dataset, DataLoader\n",
    "\n",
    "import torchvision\n",
    "import torchvision.transforms as transforms\n",
    "from torchvision.transforms import v2\n",
    "from torchvision.models import *\n",
    "\n",
    "import pandas as pd\n",
    "import matplotlib.pyplot as plt\n",
    "\n",
    "from sklearn.model_selection import train_test_split"
   ]
  },
  {
   "cell_type": "markdown",
   "metadata": {},
   "source": [
    "Check cuda availible"
   ]
  },
  {
   "cell_type": "code",
   "execution_count": 2,
   "metadata": {},
   "outputs": [
    {
     "name": "stdout",
     "output_type": "stream",
     "text": [
      "cuda:0\n"
     ]
    }
   ],
   "source": [
    "assert True == torch.cuda.is_available()\n",
    "device = torch.device('cuda:0' if torch.cuda.is_available() else 'cpu')\n",
    "print(device)"
   ]
  },
  {
   "cell_type": "markdown",
   "metadata": {},
   "source": [
    "Calculate mean and std"
   ]
  },
  {
   "cell_type": "code",
   "execution_count": 3,
   "metadata": {},
   "outputs": [],
   "source": [
    "# files = [file for file in os.listdir(\"trainval\")]\n",
    "\n",
    "# means = [0,0,0]\n",
    "# stds = [0,0,0]\n",
    "\n",
    "# for i in tqdm.tqdm(range(len(files))):\n",
    "#     file = files[i]\n",
    "#     img = torchvision.io.read_image(f\"trainval/{file}\").to(torch.float).to(device)\n",
    "#     img = img / 256.0\n",
    "#     for j in range(3):\n",
    "#         means[j] += img[j].mean()\n",
    "#         stds[j] += (img[j]**2).sum()\n",
    "\n",
    "# for j in range(3):\n",
    "#     means[j] /= (len(files))\n",
    "#     stds[j] /= (40 * 40 * len(files))\n",
    "#     stds[j] -= means[j]**2\n",
    "#     stds[j] = torch.sqrt(stds[j])\n",
    "\n",
    "#     # means[j] = int(means[j])\n",
    "#     # stds[j] = int(stds[j])\n",
    "\n",
    "\n",
    "# print(means)\n",
    "# print(stds)"
   ]
  },
  {
   "cell_type": "code",
   "execution_count": 4,
   "metadata": {},
   "outputs": [],
   "source": [
    "means = (0.5669, 0.5426, 0.4914)\n",
    "stds = (0.2377, 0.2326, 0.2506)\n",
    "\n",
    "class ImageDataset(Dataset):\n",
    "    def __init__(self, X, Y, train = True):\n",
    "        self.X = X\n",
    "        self.Y = Y\n",
    "        self.train = train\n",
    "\n",
    "    def __len__(self):\n",
    "        return len(self.Y)\n",
    "\n",
    "    def __getitem__(self, item):\n",
    "        normalize = v2.Normalize(means, stds)\n",
    "        augmentations = transforms.Compose([\n",
    "            v2.RandomHorizontalFlip(),\n",
    "            # v2.RandomAutocontrast(),\n",
    "            # v2.RandomSolarize(0.4),\n",
    "            transforms.RandomApply([v2.RandomAffine(degrees=0, translate=(1/8,1/8))], p=0.6),\n",
    "            transforms.RandomApply([v2.RandomAffine(degrees=10)], p=0.6),\n",
    "            # v2.RandomEqualize(0.5),\n",
    "            # v2.RandomPosterize(16),\n",
    "            # v2.RandomGrayscale(0.3),\n",
    "            # v2.RandomPhotometricDistort(saturation=[1, 1.5], hue = [0,0], brightness=[0.875, 1.125], contrast=[0.9,1.1], p = 0.3),\n",
    "            # v2.ColorJitter(saturation=[1, 1], hue = 0, brightness=[1, 1], contrast=[0.9,1.1])\n",
    "        ])\n",
    "        img = torchvision.io.read_image(f\"trainval/{self.X[item]}\").to(torch.float).to(device) / 256.0\n",
    "        img = normalize(img)\n",
    "        if self.train:\n",
    "            img = augmentations(img)\n",
    "        return img, self.Y[item]\n",
    "\n",
    "data = pd.read_csv(\"labels.csv\")\n",
    "X_train, X_val, y_train, y_val = train_test_split(data[\"Id\"], data[\"Category\"], test_size=0.2, random_state=42, shuffle=True)\n",
    "\n",
    "# X_train = X_train.reset_index()[\"Id\"]\n",
    "# y_train = y_train.reset_index()[\"Category\"]\n",
    "# X_val = X_val.reset_index()[\"Id\"]\n",
    "# y_val = y_val.reset_index()[\"Category\"]\n",
    "\n",
    "train_dataset = ImageDataset(X_train.to_list(), y_train.to_list())\n",
    "val_dataset = ImageDataset(X_val.to_list(), y_val.to_list(), False)"
   ]
  },
  {
   "cell_type": "code",
   "execution_count": 5,
   "metadata": {},
   "outputs": [],
   "source": [
    "train_loader = DataLoader(train_dataset, 32, True)\n",
    "val_loader = DataLoader(val_dataset, 32, True)"
   ]
  },
  {
   "cell_type": "code",
   "execution_count": 6,
   "metadata": {},
   "outputs": [
    {
     "data": {
      "image/png": "[encoded data removed]",
      "text/plain": [
       "<Figure size 640x480 with 1 Axes>"
      ]
     },
     "metadata": {},
     "output_type": "display_data"
    },
    {
     "name": "stdout",
     "output_type": "stream",
     "text": [
      "torch.Size([3, 40, 40])\n"
     ]
    }
   ],
   "source": [
    "def imshow(img):\n",
    "    for i in range(3):\n",
    "        img[i] = img[i] * stds[i] + means[i]\n",
    "    npimg = img.to(\"cpu\").numpy()\n",
    "    plt.imshow(np.transpose(npimg, (1, 2, 0)))\n",
    "    plt.show()\n",
    "    print(img.shape)\n",
    "\n",
    "imshow(train_dataset[2][0])\n"
   ]
  },
  {
   "cell_type": "code",
   "execution_count": 7,
   "metadata": {},
   "outputs": [],
   "source": [
    "@torch.no_grad()\n",
    "def test(model, loader):\n",
    "    loss_log = []\n",
    "    acc_log = []\n",
    "    model.eval()\n",
    "    criterion = F.cross_entropy\n",
    "    \n",
    "    for data, target in tqdm.tqdm(loader):\n",
    "\n",
    "        data = data.to(device)  # images: batch_size x num_channels x height x width\n",
    "        target = target.to(device)  # labels: batch_size\n",
    "\n",
    "        logits = model(data)  # logits: batch_size x num_classes\n",
    "        loss = criterion(logits, target)\n",
    "    \n",
    "        loss_log.append(loss.item())\n",
    "        \n",
    "        acc = (logits.argmax(dim=1) == target).sum() / len(target)\n",
    "\n",
    "        acc_log.append(acc.item()) \n",
    "        \n",
    "    return torch.tensor(loss_log).mean(), torch.tensor(acc_log).mean()\n",
    "\n",
    "def train_epoch(model, optimizer, train_loader):\n",
    "    loss_log = []\n",
    "    acc_log = []\n",
    "    model.train()\n",
    "    criterion = F.cross_entropy\n",
    "    \n",
    "    for data, target in tqdm.tqdm(train_loader):\n",
    "        \n",
    "        data = data.to(device)\n",
    "        target = target.to(device)\n",
    "\n",
    "        optimizer.zero_grad()\n",
    "        logits = model(data)\n",
    "        loss = criterion(logits, target)  # use this loss for any training statistics\n",
    "        loss.backward()\n",
    "        optimizer.step()\n",
    "        \n",
    "        loss_log.append(loss.item())\n",
    "        \n",
    "        acc = (logits.argmax(dim=1) == target).sum() / len(target)\n",
    "        \n",
    "        acc_log.append(acc.item()) \n",
    "\n",
    "    return loss_log, acc_log\n",
    "\n",
    "def train(model, optimizer, n_epochs, train_loader, val_loader, scheduler=None):\n",
    "    train_loss_log, train_acc_log, val_loss_log, val_acc_log = [], [], [], []\n",
    "\n",
    "    for epoch in range(n_epochs):\n",
    "        train_loss, train_acc = train_epoch(model, optimizer, train_loader)\n",
    "        val_loss, val_acc = test(model, val_loader)\n",
    "        \n",
    "        train_loss_log.extend(train_loss)\n",
    "        train_acc_log.extend(train_acc)\n",
    "        \n",
    "        val_loss_log.append(val_loss)\n",
    "        val_acc_log.append(val_acc)\n",
    "        if scheduler is not None:\n",
    "            print(f\"Epoch {epoch + 1} | lr={scheduler.get_last_lr()[0]}\")\n",
    "        else:\n",
    "            print(f\"Epoch {epoch + 1}\")\n",
    "        print(f\" train loss: {torch.tensor(train_loss).mean()}, train acc: {torch.tensor(train_acc).mean()}\")\n",
    "        print(f\" val loss: {val_loss}, val acc: {val_acc}\\n\")\n",
    "\n",
    "        torch.save(model, \"model.pth\")\n",
    "        \n",
    "        \n",
    "        if scheduler is not None:\n",
    "            scheduler.step()\n",
    "\n",
    "    return train_loss_log, train_acc_log, val_loss_log, val_acc_log"
   ]
  },
  {
   "cell_type": "code",
   "execution_count": 8,
   "metadata": {},
   "outputs": [],
   "source": [
    "net = efficientnet_v2_s(num_classes=200)\n",
    "\n",
    "net.features[0][0].stride = (1, 1)\n",
    "net.features[2][0].block[0][0].stride = (1, 1)\n",
    "# net.features[3][0].block[0][0].stride = (1, 1)\n",
    "\n",
    "net.classifier[0].p = 0.7\n",
    "\n",
    "# print(net)"
   ]
  },
  {
   "cell_type": "code",
   "execution_count": 9,
   "metadata": {},
   "outputs": [],
   "source": [
    "# model = efficientnet_v2_s(num_classes=200)\n",
    "# rand_input = torch.randn(1,3,40,40)\n",
    "# model(rand_input).shape\n",
    "\n",
    "# torch.onnx.export(model, rand_input, \"efficient_net.onnx\")\n",
    "\n",
    "# !netron efficient_net.onnx"
   ]
  },
  {
   "cell_type": "code",
   "execution_count": 10,
   "metadata": {},
   "outputs": [],
   "source": [
    "net = net.to(device)"
   ]
  },
  {
   "cell_type": "markdown",
   "metadata": {},
   "source": [
    "Training"
   ]
  },
  {
   "cell_type": "code",
   "execution_count": 11,
   "metadata": {},
   "outputs": [
    {
     "name": "stderr",
     "output_type": "stream",
     "text": [
      "100%|██████████| 2500/2500 [05:31<00:00,  7.54it/s]\n",
      "100%|██████████| 625/625 [00:24<00:00, 25.76it/s]\n"
     ]
    },
    {
     "name": "stdout",
     "output_type": "stream",
     "text": [
      "Epoch 1 | lr=0.01\n",
      " train loss: 5.1895060539245605, train acc: 0.014999999664723873\n",
      " val loss: 4.8496599197387695, val acc: 0.03525000065565109\n",
      "\n"
     ]
    },
    {
     "name": "stderr",
     "output_type": "stream",
     "text": [
      "100%|██████████| 2500/2500 [05:26<00:00,  7.66it/s]\n",
      "100%|██████████| 625/625 [00:23<00:00, 26.08it/s]\n"
     ]
    },
    {
     "name": "stdout",
     "output_type": "stream",
     "text": [
      "Epoch 2 | lr=0.00998458666866564\n",
      " train loss: 4.788936614990234, train acc: 0.040037501603364944\n",
      " val loss: 4.565202236175537, val acc: 0.061400000005960464\n",
      "\n"
     ]
    },
    {
     "name": "stderr",
     "output_type": "stream",
     "text": [
      "100%|██████████| 2500/2500 [05:30<00:00,  7.55it/s]\n",
      "100%|██████████| 625/625 [00:23<00:00, 26.07it/s]\n"
     ]
    },
    {
     "name": "stdout",
     "output_type": "stream",
     "text": [
      "Epoch 3 | lr=0.009938441702975689\n",
      " train loss: 4.575836658477783, train acc: 0.06319999694824219\n",
      " val loss: 4.305624008178711, val acc: 0.09440000355243683\n",
      "\n"
     ]
    },
    {
     "name": "stderr",
     "output_type": "stream",
     "text": [
      "100%|██████████| 2500/2500 [05:32<00:00,  7.53it/s]\n",
      "100%|██████████| 625/625 [00:24<00:00, 25.38it/s]\n"
     ]
    },
    {
     "name": "stdout",
     "output_type": "stream",
     "text": [
      "Epoch 4 | lr=0.009861849601988383\n",
      " train loss: 4.350563049316406, train acc: 0.09171249717473984\n",
      " val loss: 4.0256452560424805, val acc: 0.133200004696846\n",
      "\n"
     ]
    },
    {
     "name": "stderr",
     "output_type": "stream",
     "text": [
      "100%|██████████| 2500/2500 [05:32<00:00,  7.53it/s]\n",
      "100%|██████████| 625/625 [00:23<00:00, 26.18it/s]\n"
     ]
    },
    {
     "name": "stdout",
     "output_type": "stream",
     "text": [
      "Epoch 5 | lr=0.009755282581475769\n",
      " train loss: 4.093926429748535, train acc: 0.12240000069141388\n",
      " val loss: 3.763066291809082, val acc: 0.17309999465942383\n",
      "\n"
     ]
    },
    {
     "name": "stderr",
     "output_type": "stream",
     "text": [
      "100%|██████████| 2500/2500 [05:25<00:00,  7.68it/s]\n",
      "100%|██████████| 625/625 [00:24<00:00, 25.87it/s]\n"
     ]
    },
    {
     "name": "stdout",
     "output_type": "stream",
     "text": [
      "Epoch 6 | lr=0.009619397662556435\n",
      " train loss: 3.8833932876586914, train acc: 0.15309999883174896\n",
      " val loss: 3.537569046020508, val acc: 0.21044999361038208\n",
      "\n"
     ]
    },
    {
     "name": "stderr",
     "output_type": "stream",
     "text": [
      "100%|██████████| 2500/2500 [05:28<00:00,  7.62it/s]\n",
      "100%|██████████| 625/625 [00:24<00:00, 25.71it/s]\n"
     ]
    },
    {
     "name": "stdout",
     "output_type": "stream",
     "text": [
      "Epoch 7 | lr=0.00945503262094184\n",
      " train loss: 3.687640905380249, train acc: 0.18105000257492065\n",
      " val loss: 3.3522679805755615, val acc: 0.2446500062942505\n",
      "\n"
     ]
    },
    {
     "name": "stderr",
     "output_type": "stream",
     "text": [
      "100%|██████████| 2500/2500 [05:25<00:00,  7.68it/s]\n",
      "100%|██████████| 625/625 [00:23<00:00, 26.26it/s]\n"
     ]
    },
    {
     "name": "stdout",
     "output_type": "stream",
     "text": [
      "Epoch 8 | lr=0.009263200821770462\n",
      " train loss: 3.5304312705993652, train acc: 0.20864999294281006\n",
      " val loss: 3.2200398445129395, val acc: 0.2644999921321869\n",
      "\n"
     ]
    },
    {
     "name": "stderr",
     "output_type": "stream",
     "text": [
      "100%|██████████| 2500/2500 [05:23<00:00,  7.73it/s]\n",
      "100%|██████████| 625/625 [00:24<00:00, 25.67it/s]\n"
     ]
    },
    {
     "name": "stdout",
     "output_type": "stream",
     "text": [
      "Epoch 9 | lr=0.009045084971874739\n",
      " train loss: 3.389694929122925, train acc: 0.23160000145435333\n",
      " val loss: 3.082554578781128, val acc: 0.28929999470710754\n",
      "\n"
     ]
    },
    {
     "name": "stderr",
     "output_type": "stream",
     "text": [
      "100%|██████████| 2500/2500 [05:24<00:00,  7.70it/s]\n",
      "100%|██████████| 625/625 [00:24<00:00, 25.40it/s]\n"
     ]
    },
    {
     "name": "stdout",
     "output_type": "stream",
     "text": [
      "Epoch 10 | lr=0.008802029828000156\n",
      " train loss: 3.273236036300659, train acc: 0.25306248664855957\n",
      " val loss: 2.9994025230407715, val acc: 0.3006500005722046\n",
      "\n"
     ]
    },
    {
     "name": "stderr",
     "output_type": "stream",
     "text": [
      "100%|██████████| 2500/2500 [05:34<00:00,  7.48it/s]\n",
      "100%|██████████| 625/625 [00:23<00:00, 26.56it/s]\n"
     ]
    },
    {
     "name": "stdout",
     "output_type": "stream",
     "text": [
      "Epoch 11 | lr=0.008535533905932738\n",
      " train loss: 3.1584532260894775, train acc: 0.272662490606308\n",
      " val loss: 2.919175863265991, val acc: 0.3170500099658966\n",
      "\n"
     ]
    },
    {
     "name": "stderr",
     "output_type": "stream",
     "text": [
      "100%|██████████| 2500/2500 [05:24<00:00,  7.70it/s]\n",
      "100%|██████████| 625/625 [00:24<00:00, 25.89it/s]\n"
     ]
    },
    {
     "name": "stdout",
     "output_type": "stream",
     "text": [
      "Epoch 12 | lr=0.00824724024165092\n",
      " train loss: 3.071706533432007, train acc: 0.29032498598098755\n",
      " val loss: 2.8420135974884033, val acc: 0.3310000002384186\n",
      "\n"
     ]
    },
    {
     "name": "stderr",
     "output_type": "stream",
     "text": [
      "100%|██████████| 2500/2500 [05:23<00:00,  7.74it/s]\n",
      "100%|██████████| 625/625 [00:24<00:00, 25.81it/s]\n"
     ]
    },
    {
     "name": "stdout",
     "output_type": "stream",
     "text": [
      "Epoch 13 | lr=0.007938926261462366\n",
      " train loss: 2.9727022647857666, train acc: 0.30746251344680786\n",
      " val loss: 2.7758371829986572, val acc: 0.34665000438690186\n",
      "\n"
     ]
    },
    {
     "name": "stderr",
     "output_type": "stream",
     "text": [
      "100%|██████████| 2500/2500 [05:28<00:00,  7.61it/s]\n",
      "100%|██████████| 625/625 [00:23<00:00, 26.09it/s]\n"
     ]
    },
    {
     "name": "stdout",
     "output_type": "stream",
     "text": [
      "Epoch 14 | lr=0.0076124928235797445\n",
      " train loss: 2.8859915733337402, train acc: 0.3233875036239624\n",
      " val loss: 2.731768846511841, val acc: 0.35455000400543213\n",
      "\n"
     ]
    },
    {
     "name": "stderr",
     "output_type": "stream",
     "text": [
      "100%|██████████| 2500/2500 [05:40<00:00,  7.35it/s]\n",
      "100%|██████████| 625/625 [00:24<00:00, 25.41it/s]\n"
     ]
    },
    {
     "name": "stdout",
     "output_type": "stream",
     "text": [
      "Epoch 15 | lr=0.007269952498697735\n",
      " train loss: 2.8076868057250977, train acc: 0.33845001459121704\n",
      " val loss: 2.6848855018615723, val acc: 0.366349995136261\n",
      "\n"
     ]
    },
    {
     "name": "stderr",
     "output_type": "stream",
     "text": [
      "100%|██████████| 2500/2500 [05:36<00:00,  7.42it/s]\n",
      "100%|██████████| 625/625 [00:24<00:00, 26.01it/s]\n"
     ]
    },
    {
     "name": "stdout",
     "output_type": "stream",
     "text": [
      "Epoch 16 | lr=0.0069134171618254504\n",
      " train loss: 2.730363607406616, train acc: 0.35253751277923584\n",
      " val loss: 2.647805690765381, val acc: 0.374099999666214\n",
      "\n"
     ]
    },
    {
     "name": "stderr",
     "output_type": "stream",
     "text": [
      "100%|██████████| 2500/2500 [05:27<00:00,  7.64it/s]\n",
      "100%|██████████| 625/625 [00:24<00:00, 25.42it/s]\n"
     ]
    },
    {
     "name": "stdout",
     "output_type": "stream",
     "text": [
      "Epoch 17 | lr=0.006545084971874739\n",
      " train loss: 2.656562566757202, train acc: 0.36861249804496765\n",
      " val loss: 2.6049082279205322, val acc: 0.38440001010894775\n",
      "\n"
     ]
    },
    {
     "name": "stderr",
     "output_type": "stream",
     "text": [
      "100%|██████████| 2500/2500 [05:24<00:00,  7.70it/s]\n",
      "100%|██████████| 625/625 [00:23<00:00, 26.24it/s]\n"
     ]
    },
    {
     "name": "stdout",
     "output_type": "stream",
     "text": [
      "Epoch 18 | lr=0.006167226819279529\n",
      " train loss: 2.5881893634796143, train acc: 0.379925012588501\n",
      " val loss: 2.5405964851379395, val acc: 0.39594998955726624\n",
      "\n"
     ]
    },
    {
     "name": "stderr",
     "output_type": "stream",
     "text": [
      "100%|██████████| 2500/2500 [05:24<00:00,  7.71it/s]\n",
      "100%|██████████| 625/625 [00:23<00:00, 26.45it/s]\n"
     ]
    },
    {
     "name": "stdout",
     "output_type": "stream",
     "text": [
      "Epoch 19 | lr=0.005782172325201156\n",
      " train loss: 2.519958972930908, train acc: 0.39465001225471497\n",
      " val loss: 2.509012222290039, val acc: 0.40619999170303345\n",
      "\n"
     ]
    },
    {
     "name": "stderr",
     "output_type": "stream",
     "text": [
      "100%|██████████| 2500/2500 [05:23<00:00,  7.74it/s]\n",
      "100%|██████████| 625/625 [00:24<00:00, 25.57it/s]\n"
     ]
    },
    {
     "name": "stdout",
     "output_type": "stream",
     "text": [
      "Epoch 20 | lr=0.005392295478639226\n",
      " train loss: 2.4531915187835693, train acc: 0.4065625071525574\n",
      " val loss: 2.4927165508270264, val acc: 0.4072999954223633\n",
      "\n"
     ]
    },
    {
     "name": "stderr",
     "output_type": "stream",
     "text": [
      "100%|██████████| 2500/2500 [05:27<00:00,  7.63it/s]\n",
      "100%|██████████| 625/625 [00:23<00:00, 26.10it/s]\n"
     ]
    },
    {
     "name": "stdout",
     "output_type": "stream",
     "text": [
      "Epoch 21 | lr=0.005000000000000001\n",
      " train loss: 2.3860371112823486, train acc: 0.41997501254081726\n",
      " val loss: 2.4431874752044678, val acc: 0.4200499951839447\n",
      "\n"
     ]
    },
    {
     "name": "stderr",
     "output_type": "stream",
     "text": [
      "100%|██████████| 2500/2500 [05:26<00:00,  7.66it/s]\n",
      "100%|██████████| 625/625 [00:23<00:00, 26.40it/s]\n"
     ]
    },
    {
     "name": "stdout",
     "output_type": "stream",
     "text": [
      "Epoch 22 | lr=0.004607704521360776\n",
      " train loss: 2.315155267715454, train acc: 0.4343250095844269\n",
      " val loss: 2.4391117095947266, val acc: 0.4235999882221222\n",
      "\n"
     ]
    },
    {
     "name": "stderr",
     "output_type": "stream",
     "text": [
      "100%|██████████| 2500/2500 [05:26<00:00,  7.66it/s]\n",
      "100%|██████████| 625/625 [00:24<00:00, 25.79it/s]\n"
     ]
    },
    {
     "name": "stdout",
     "output_type": "stream",
     "text": [
      "Epoch 23 | lr=0.004217827674798847\n",
      " train loss: 2.251188278198242, train acc: 0.44728749990463257\n",
      " val loss: 2.4035303592681885, val acc: 0.4300999939441681\n",
      "\n"
     ]
    },
    {
     "name": "stderr",
     "output_type": "stream",
     "text": [
      "100%|██████████| 2500/2500 [05:33<00:00,  7.49it/s]\n",
      "100%|██████████| 625/625 [00:24<00:00, 26.00it/s]\n"
     ]
    },
    {
     "name": "stdout",
     "output_type": "stream",
     "text": [
      "Epoch 24 | lr=0.0038327731807204736\n",
      " train loss: 2.179032325744629, train acc: 0.46127501130104065\n",
      " val loss: 2.3969128131866455, val acc: 0.4337500035762787\n",
      "\n"
     ]
    },
    {
     "name": "stderr",
     "output_type": "stream",
     "text": [
      "100%|██████████| 2500/2500 [05:34<00:00,  7.46it/s]\n",
      "100%|██████████| 625/625 [00:24<00:00, 26.04it/s]\n"
     ]
    },
    {
     "name": "stdout",
     "output_type": "stream",
     "text": [
      "Epoch 25 | lr=0.003454915028125263\n",
      " train loss: 2.1069839000701904, train acc: 0.47523748874664307\n",
      " val loss: 2.377338171005249, val acc: 0.43904998898506165\n",
      "\n"
     ]
    },
    {
     "name": "stderr",
     "output_type": "stream",
     "text": [
      "100%|██████████| 2500/2500 [05:26<00:00,  7.66it/s]\n",
      "100%|██████████| 625/625 [00:24<00:00, 25.52it/s]\n"
     ]
    },
    {
     "name": "stdout",
     "output_type": "stream",
     "text": [
      "Epoch 26 | lr=0.0030865828381745515\n",
      " train loss: 2.0399818420410156, train acc: 0.491225004196167\n",
      " val loss: 2.358992099761963, val acc: 0.4471000134944916\n",
      "\n"
     ]
    },
    {
     "name": "stderr",
     "output_type": "stream",
     "text": [
      "100%|██████████| 2500/2500 [05:25<00:00,  7.69it/s]\n",
      "100%|██████████| 625/625 [00:23<00:00, 26.10it/s]\n"
     ]
    },
    {
     "name": "stdout",
     "output_type": "stream",
     "text": [
      "Epoch 27 | lr=0.0027300475013022664\n",
      " train loss: 1.9667189121246338, train acc: 0.5048875212669373\n",
      " val loss: 2.3505983352661133, val acc: 0.4462999999523163\n",
      "\n"
     ]
    },
    {
     "name": "stderr",
     "output_type": "stream",
     "text": [
      "100%|██████████| 2500/2500 [05:26<00:00,  7.65it/s]\n",
      "100%|██████████| 625/625 [00:24<00:00, 25.59it/s]\n"
     ]
    },
    {
     "name": "stdout",
     "output_type": "stream",
     "text": [
      "Epoch 28 | lr=0.002387507176420256\n",
      " train loss: 1.9004019498825073, train acc: 0.5187125205993652\n",
      " val loss: 2.345545768737793, val acc: 0.45285001397132874\n",
      "\n"
     ]
    },
    {
     "name": "stderr",
     "output_type": "stream",
     "text": [
      "100%|██████████| 2500/2500 [05:26<00:00,  7.66it/s]\n",
      "100%|██████████| 625/625 [00:23<00:00, 26.41it/s]\n"
     ]
    },
    {
     "name": "stdout",
     "output_type": "stream",
     "text": [
      "Epoch 29 | lr=0.002061073738537635\n",
      " train loss: 1.8172898292541504, train acc: 0.5362499952316284\n",
      " val loss: 2.3721282482147217, val acc: 0.4521999955177307\n",
      "\n"
     ]
    },
    {
     "name": "stderr",
     "output_type": "stream",
     "text": [
      "100%|██████████| 2500/2500 [05:25<00:00,  7.67it/s]\n",
      "100%|██████████| 625/625 [00:23<00:00, 26.45it/s]\n"
     ]
    },
    {
     "name": "stdout",
     "output_type": "stream",
     "text": [
      "Epoch 30 | lr=0.0017527597583490825\n",
      " train loss: 1.7497665882110596, train acc: 0.5529749989509583\n",
      " val loss: 2.342554807662964, val acc: 0.4634999930858612\n",
      "\n"
     ]
    },
    {
     "name": "stderr",
     "output_type": "stream",
     "text": [
      "100%|██████████| 2500/2500 [05:21<00:00,  7.78it/s]\n",
      "100%|██████████| 625/625 [00:24<00:00, 25.58it/s]\n"
     ]
    },
    {
     "name": "stdout",
     "output_type": "stream",
     "text": [
      "Epoch 31 | lr=0.0014644660940672629\n",
      " train loss: 1.6738603115081787, train acc: 0.5666750073432922\n",
      " val loss: 2.348160982131958, val acc: 0.46424999833106995\n",
      "\n"
     ]
    },
    {
     "name": "stderr",
     "output_type": "stream",
     "text": [
      "100%|██████████| 2500/2500 [05:28<00:00,  7.62it/s]\n",
      "100%|██████████| 625/625 [00:23<00:00, 26.26it/s]\n"
     ]
    },
    {
     "name": "stdout",
     "output_type": "stream",
     "text": [
      "Epoch 32 | lr=0.0011979701719998454\n",
      " train loss: 1.5994454622268677, train acc: 0.5860249996185303\n",
      " val loss: 2.3580784797668457, val acc: 0.46369999647140503\n",
      "\n"
     ]
    },
    {
     "name": "stderr",
     "output_type": "stream",
     "text": [
      "100%|██████████| 2500/2500 [05:20<00:00,  7.81it/s]\n",
      "100%|██████████| 625/625 [00:23<00:00, 26.48it/s]\n"
     ]
    },
    {
     "name": "stdout",
     "output_type": "stream",
     "text": [
      "Epoch 33 | lr=0.0009549150281252633\n",
      " train loss: 1.5254286527633667, train acc: 0.6002625226974487\n",
      " val loss: 2.362677574157715, val acc: 0.46560001373291016\n",
      "\n"
     ]
    },
    {
     "name": "stderr",
     "output_type": "stream",
     "text": [
      "100%|██████████| 2500/2500 [05:29<00:00,  7.59it/s]\n",
      "100%|██████████| 625/625 [00:23<00:00, 26.31it/s]\n"
     ]
    },
    {
     "name": "stdout",
     "output_type": "stream",
     "text": [
      "Epoch 34 | lr=0.0007367991782295391\n",
      " train loss: 1.4505716562271118, train acc: 0.6201000213623047\n",
      " val loss: 2.3644137382507324, val acc: 0.47099998593330383\n",
      "\n"
     ]
    },
    {
     "name": "stderr",
     "output_type": "stream",
     "text": [
      "100%|██████████| 2500/2500 [05:26<00:00,  7.66it/s]\n",
      "100%|██████████| 625/625 [00:24<00:00, 25.79it/s]\n"
     ]
    },
    {
     "name": "stdout",
     "output_type": "stream",
     "text": [
      "Epoch 35 | lr=0.0005449673790581611\n",
      " train loss: 1.3846584558486938, train acc: 0.6330875158309937\n",
      " val loss: 2.3729469776153564, val acc: 0.47209998965263367\n",
      "\n"
     ]
    },
    {
     "name": "stderr",
     "output_type": "stream",
     "text": [
      "100%|██████████| 2500/2500 [05:27<00:00,  7.63it/s]\n",
      "100%|██████████| 625/625 [00:23<00:00, 26.17it/s]\n"
     ]
    },
    {
     "name": "stdout",
     "output_type": "stream",
     "text": [
      "Epoch 36 | lr=0.0003806023374435663\n",
      " train loss: 1.3380690813064575, train acc: 0.6471375226974487\n",
      " val loss: 2.3800456523895264, val acc: 0.4711500108242035\n",
      "\n"
     ]
    },
    {
     "name": "stderr",
     "output_type": "stream",
     "text": [
      "100%|██████████| 2500/2500 [05:23<00:00,  7.73it/s]\n",
      "100%|██████████| 625/625 [00:23<00:00, 26.16it/s]\n"
     ]
    },
    {
     "name": "stdout",
     "output_type": "stream",
     "text": [
      "Epoch 37 | lr=0.00024471741852423234\n",
      " train loss: 1.2823232412338257, train acc: 0.658887505531311\n",
      " val loss: 2.389857769012451, val acc: 0.4726000130176544\n",
      "\n"
     ]
    },
    {
     "name": "stderr",
     "output_type": "stream",
     "text": [
      "100%|██████████| 2500/2500 [05:28<00:00,  7.60it/s]\n",
      "100%|██████████| 625/625 [00:24<00:00, 25.48it/s]\n"
     ]
    },
    {
     "name": "stdout",
     "output_type": "stream",
     "text": [
      "Epoch 38 | lr=0.00013815039801161723\n",
      " train loss: 1.249428629875183, train acc: 0.6673874855041504\n",
      " val loss: 2.3841724395751953, val acc: 0.478300005197525\n",
      "\n"
     ]
    },
    {
     "name": "stderr",
     "output_type": "stream",
     "text": [
      "100%|██████████| 2500/2500 [05:31<00:00,  7.55it/s]\n",
      "100%|██████████| 625/625 [00:24<00:00, 25.85it/s]\n"
     ]
    },
    {
     "name": "stdout",
     "output_type": "stream",
     "text": [
      "Epoch 39 | lr=6.155829702431172e-05\n",
      " train loss: 1.2243669033050537, train acc: 0.6750500202178955\n",
      " val loss: 2.3856446743011475, val acc: 0.4772000014781952\n",
      "\n"
     ]
    },
    {
     "name": "stderr",
     "output_type": "stream",
     "text": [
      "100%|██████████| 2500/2500 [05:30<00:00,  7.56it/s]\n",
      "100%|██████████| 625/625 [00:24<00:00, 25.84it/s]\n"
     ]
    },
    {
     "name": "stdout",
     "output_type": "stream",
     "text": [
      "Epoch 40 | lr=1.5413331334360186e-05\n",
      " train loss: 1.2134307622909546, train acc: 0.6777125000953674\n",
      " val loss: 2.385225772857666, val acc: 0.47655001282691956\n",
      "\n"
     ]
    }
   ],
   "source": [
    "torch.manual_seed(1984)\n",
    "random.seed(1984)\n",
    "np.random.seed(1984)\n",
    "torch.cuda.manual_seed(1984)\n",
    "# torch.backends.cudnn.enabled=False\n",
    "torch.backends.cudnn.deterministic = True\n",
    "\n",
    "optimizer = optim.SGD(net.parameters(), lr=0.01, momentum=0.9, weight_decay=1e-4, nesterov=True)\n",
    "scheduler = optim.lr_scheduler.CosineAnnealingLR(optimizer, 40)\n",
    "train_loss_log, train_acc_log, val_loss_log, val_acc_log = train(net, optimizer, 40, train_loader, val_loader, scheduler)"
   ]
  },
  {
   "cell_type": "markdown",
   "metadata": {},
   "source": [
    "Plots"
   ]
  },
  {
   "cell_type": "code",
   "execution_count": 12,
   "metadata": {},
   "outputs": [
    {
     "data": {
      "image/png": "[encoded data removed]",
      "text/plain": [
       "<Figure size 1400x600 with 2 Axes>"
      ]
     },
     "metadata": {},
     "output_type": "display_data"
    }
   ],
   "source": [
    "fig, ax = plt.subplots(1, 2, figsize = (14, 6))\n",
    "\n",
    "ax[0].plot(train_loss_log, label = \"обучение\")\n",
    "ax[0].plot((torch.arange(len(val_loss_log)) + 1) * len(train_loader), val_loss_log, label = \"валидация\", marker = \"o\")\n",
    "ax[0].set_xlabel(\"Шаг оптимизатора\")\n",
    "ax[0].set_ylabel(\"Лосс функция\")\n",
    "ax[0].set_title(\"График лосс функции от номера шага оптимизатора\")\n",
    "ax[0].grid(axis = \"y\")\n",
    "ax[0].legend()\n",
    "\n",
    "\n",
    "ax[1].plot(train_acc_log, label = \"обучение\")\n",
    "ax[1].plot((torch.arange(len(val_acc_log)) + 1) * len(train_loader), val_acc_log, label = \"валидация\", marker = \"o\")\n",
    "ax[1].set_xlabel(\"Шаг оптимизатора\")\n",
    "ax[1].set_ylabel(\"Точность классификации\")\n",
    "ax[1].set_title(\"График точности классификатора от номера шага оптимизатора\")\n",
    "ax[1].grid(axis = \"y\")\n",
    "ax[1].legend()\n",
    "\n",
    "plt.tight_layout()\n",
    "plt.show()"
   ]
  },
  {
   "cell_type": "code",
   "execution_count": 13,
   "metadata": {},
   "outputs": [],
   "source": [
    "# net = torch.load(\"checkpoint.pth\", weights_only=False)\n",
    "# net = net.to(device)\n",
    "# net.eval()"
   ]
  },
  {
   "cell_type": "markdown",
   "metadata": {},
   "source": [
    "Test Time Augmentation"
   ]
  },
  {
   "cell_type": "code",
   "execution_count": 14,
   "metadata": {},
   "outputs": [
    {
     "name": "stderr",
     "output_type": "stream",
     "text": [
      "100%|██████████| 10000/10000 [41:11<00:00,  4.05it/s]\n"
     ]
    }
   ],
   "source": [
    "files = [file for file in os.listdir(\"test\")]\n",
    "\n",
    "pred = []\n",
    "\n",
    "with torch.no_grad():\n",
    "    for i in tqdm.tqdm(range(len(files))):\n",
    "        file = files[i]\n",
    "        normalize = v2.Normalize(means, stds)\n",
    "        augmentations = transforms.Compose([\n",
    "            v2.RandomHorizontalFlip(),\n",
    "            transforms.RandomApply([v2.RandomAffine(degrees=0, translate=(1/8,1/8))], p=0.6),\n",
    "            transforms.RandomApply([v2.RandomAffine(degrees=10)], p=0.6),\n",
    "        ])\n",
    "        img = torchvision.io.read_image(f\"test/{file}\").to(torch.float).to(device) / 256.0\n",
    "        img = normalize(img)\n",
    "        res = []\n",
    "        for i in range(10):\n",
    "            logits = net(augmentations(img).unsqueeze(0))[0]\n",
    "            res.append(int(logits.argmax().to(\"cpu\")))\n",
    "        \n",
    "        pred.append(max(res, key=lambda x: res.count(x)))\n"
   ]
  },
  {
   "cell_type": "markdown",
   "metadata": {},
   "source": [
    "Simple testing"
   ]
  },
  {
   "cell_type": "code",
   "execution_count": 15,
   "metadata": {},
   "outputs": [],
   "source": [
    "# files = [file for file in os.listdir(\"test\")]\n",
    "\n",
    "# pred = []\n",
    "\n",
    "# with torch.no_grad():\n",
    "#     for i in tqdm.tqdm(range(len(files))):\n",
    "#         file = files[i]\n",
    "#         transform = v2.Normalize((128, 128, 128), (128, 128, 128))\n",
    "#         img = torchvision.io.read_image(f\"test/{file}\").to(torch.float).to(device)\n",
    "#         img = transform(img)\n",
    "#         logits = net(img.unsqueeze(0))[0]\n",
    "#         pred.append(int(logits.argmax().to(\"cpu\")))"
   ]
  },
  {
   "cell_type": "code",
   "execution_count": 16,
   "metadata": {},
   "outputs": [],
   "source": [
    "data = {\n",
    "    \"Id\" : files,\n",
    "    \"Category\" : pred\n",
    "}\n",
    "\n",
    "df = pd.DataFrame(data)"
   ]
  },
  {
   "cell_type": "code",
   "execution_count": 17,
   "metadata": {},
   "outputs": [],
   "source": [
    "df.to_csv(\"labels_test.csv\", index=False)"
   ]
  },
  {
   "cell_type": "code",
   "execution_count": null,
   "metadata": {},
   "outputs": [],
   "source": []
  }
 ],
 "metadata": {
  "kernelspec": {
   "display_name": "Python 3 (ipykernel)",
   "language": "python",
   "name": "python3"
  },
  "language_info": {
   "codemirror_mode": {
    "name": "ipython",
    "version": 3
   },
   "file_extension": ".py",
   "mimetype": "text/x-python",
   "name": "python",
   "nbconvert_exporter": "python",
   "pygments_lexer": "ipython3",
   "version": "3.8.10"
  }
 },
 "nbformat": 4,
 "nbformat_minor": 4
}
